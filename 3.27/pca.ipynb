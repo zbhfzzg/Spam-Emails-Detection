{
 "cells": [
  {
   "cell_type": "code",
   "execution_count": null,
   "id": "eda79fbc",
   "metadata": {},
   "outputs": [],
   "source": [
    "# Problem: spam email detection"
   ]
  },
  {
   "cell_type": "code",
   "execution_count": null,
   "id": "7f910c11",
   "metadata": {},
   "outputs": [],
   "source": [
    "# data comes from https://archive.ics.uci.edu/dataset/94/spambase"
   ]
  },
  {
   "cell_type": "code",
   "execution_count": 70,
   "id": "02ea0a72",
   "metadata": {},
   "outputs": [],
   "source": [
    "import numpy as np\n",
    "import pandas as pd\n",
    "\n",
    "# Load the Spambase dataset\n",
    "data = pd.read_csv('spambase.data')\n",
    "\n",
    "# Fill missing values with the mean of each column\n",
    "data = data.fillna(data.mean())\n",
    "\n",
    "column_names = [\n",
    "    'word_freq_make', 'word_freq_address', 'word_freq_all', 'word_freq_3d',\n",
    "    'word_freq_our', 'word_freq_over', 'word_freq_remove', 'word_freq_internet',\n",
    "    'word_freq_order', 'word_freq_mail', 'word_freq_receive', 'word_freq_will',\n",
    "    'word_freq_people', 'word_freq_report', 'word_freq_addresses', 'word_freq_free',\n",
    "    'word_freq_business', 'word_freq_email', 'word_freq_you', 'word_freq_credit',\n",
    "    'word_freq_your', 'word_freq_font', 'word_freq_000', 'word_freq_money',\n",
    "    'word_freq_hp', 'word_freq_hpl', 'word_freq_george', 'word_freq_650',\n",
    "    'word_freq_lab', 'word_freq_labs', 'word_freq_telnet', 'word_freq_857',\n",
    "    'word_freq_data', 'word_freq_415', 'word_freq_85', 'word_freq_technology',\n",
    "    'word_freq_1999', 'word_freq_parts', 'word_freq_pm', 'word_freq_direct',\n",
    "    'word_freq_cs', 'word_freq_meeting', 'word_freq_original', 'word_freq_project',\n",
    "    'word_freq_re', 'word_freq_edu', 'word_freq_table', 'word_freq_conference',\n",
    "    'char_freq_;', 'char_freq_(', 'char_freq_[', 'char_freq_!', 'char_freq_$',\n",
    "    'char_freq_#', 'capital_run_length_average', 'capital_run_length_longest',\n",
    "    'capital_run_length_total', 'spam'\n",
    "]\n",
    "\n",
    "# Assign column names to the dataset\n",
    "data.columns = column_names"
   ]
  },
  {
   "cell_type": "code",
   "execution_count": 71,
   "id": "1877aad2",
   "metadata": {},
   "outputs": [
    {
     "name": "stdout",
     "output_type": "stream",
     "text": [
      "42\n"
     ]
    }
   ],
   "source": [
    "#PCA\n",
    "\n",
    "from sklearn.decomposition import PCA\n",
    "\n",
    "# Separate features and target variable\n",
    "X = data.iloc[:, :-1].values\n",
    "y = data.iloc[:, -1].values\n",
    "\n",
    "# Normalize the data\n",
    "X = (X - np.mean(X, axis=0)) / np.std(X, axis=0)\n",
    "\n",
    "# Perform PCA\n",
    "pca = PCA()\n",
    "X_pca = pca.fit_transform(X)\n",
    "\n",
    "# Determine the number of components to keep\n",
    "explained_variance_ratio = pca.explained_variance_ratio_\n",
    "cumulative_variance_ratio = np.cumsum(explained_variance_ratio)\n",
    "threshold_variance = 0.89  # Set the threshold for variance explained\n",
    "num_components = np.argmax(cumulative_variance_ratio >= threshold_variance) + 1\n",
    "\n",
    "# Select the top-k principal components\n",
    "X_selected = X_pca[:, :num_components]\n",
    "\n",
    "# Create a new DataFrame with the selected features\n",
    "selected_features = [f'PC{i}' for i in range(1, num_components + 1)]\n",
    "pca_data = pd.DataFrame(data=X_selected, columns=selected_features)\n",
    "\n",
    "# Add the target variable back to the selected data if needed\n",
    "pca_data['spam'] = y\n",
    "\n",
    "# Print the num of selected data\n",
    "print(num_components)"
   ]
  },
  {
   "cell_type": "code",
   "execution_count": 38,
   "id": "79cec244",
   "metadata": {},
   "outputs": [
    {
     "name": "stdout",
     "output_type": "stream",
     "text": [
      "SVM Classifier_full:\n",
      "Accuracy: 0.9119565217391304\n",
      "Precision: 0.9164420485175202\n",
      "Recall: 0.8717948717948718\n",
      "F1-Score: 0.8935611038107754\n"
     ]
    }
   ],
   "source": [
    "# SVM_full data\n",
    "from sklearn.model_selection import train_test_split\n",
    "from sklearn.svm import SVC\n",
    "from sklearn.metrics import accuracy_score, precision_score, recall_score, f1_score\n",
    "\n",
    "# Split the dataset into features (X) and labels (y)\n",
    "X = data.iloc[:, :-1].values\n",
    "y = data.iloc[:, -1].values\n",
    "\n",
    "# Split the dataset into training and testing sets\n",
    "X_train, X_test, y_train, y_test = train_test_split(X, y, test_size=0.2, random_state=42)\n",
    "\n",
    "# Train the SVM Classifier\n",
    "svm = SVC(kernel='rbf', C=40000)\n",
    "svm.fit(X_train, y_train)\n",
    "\n",
    "# Make predictions on the testing set\n",
    "svm_predictions = svm.predict(X_test)\n",
    "\n",
    "# Evaluate the classifiers\n",
    "svm_accuracy = accuracy_score(y_test, svm_predictions)\n",
    "svm_precision = precision_score(y_test, svm_predictions)\n",
    "svm_recall = recall_score(y_test, svm_predictions)\n",
    "svm_f1 = f1_score(y_test, svm_predictions)\n",
    "\n",
    "print(\"SVM Classifier_full:\")\n",
    "print(\"Accuracy:\", svm_accuracy)\n",
    "print(\"Precision:\", svm_precision)\n",
    "print(\"Recall:\", svm_recall)\n",
    "print(\"F1-Score:\", svm_f1)"
   ]
  },
  {
   "cell_type": "code",
   "execution_count": 43,
   "id": "c0739cef",
   "metadata": {},
   "outputs": [
    {
     "name": "stdout",
     "output_type": "stream",
     "text": [
      "SVM Classifier_PCA:\n",
      "Accuracy: 0.9043478260869565\n",
      "Precision: 0.8952879581151832\n",
      "Recall: 0.8769230769230769\n",
      "F1-Score: 0.8860103626943004\n"
     ]
    }
   ],
   "source": [
    "# SVM_PCA data\n",
    "from sklearn.model_selection import train_test_split\n",
    "from sklearn.svm import SVC\n",
    "from sklearn.metrics import accuracy_score, precision_score, recall_score, f1_score\n",
    "\n",
    "# Split the dataset into features (X) and labels (y)\n",
    "X = pca_data.iloc[:, :-1].values\n",
    "y = pca_data.iloc[:, -1].values\n",
    "\n",
    "# Split the dataset into training and testing sets\n",
    "X_train, X_test, y_train, y_test = train_test_split(X, y, test_size=0.2, random_state=42)\n",
    "\n",
    "# Train the SVM Classifier\n",
    "svm = SVC(kernel='rbf', C=40000)\n",
    "svm.fit(X_train, y_train)\n",
    "\n",
    "# Make predictions on the testing set\n",
    "svm_predictions = svm.predict(X_test)\n",
    "\n",
    "# Evaluate the classifiers\n",
    "svm_accuracy = accuracy_score(y_test, svm_predictions)\n",
    "svm_precision = precision_score(y_test, svm_predictions)\n",
    "svm_recall = recall_score(y_test, svm_predictions)\n",
    "svm_f1 = f1_score(y_test, svm_predictions)\n",
    "\n",
    "print(\"SVM Classifier_PCA:\")\n",
    "print(\"Accuracy:\", svm_accuracy)\n",
    "print(\"Precision:\", svm_precision)\n",
    "print(\"Recall:\", svm_recall)\n",
    "print(\"F1-Score:\", svm_f1)"
   ]
  },
  {
   "cell_type": "code",
   "execution_count": 11,
   "id": "6f105e84",
   "metadata": {},
   "outputs": [
    {
     "name": "stdout",
     "output_type": "stream",
     "text": [
      "Naive Bayes Classifier_full:\n",
      "Accuracy: 0.8152173913043478\n",
      "Precision: 0.7115384615384616\n",
      "Recall: 0.9487179487179487\n",
      "F1-Score: 0.8131868131868132\n"
     ]
    }
   ],
   "source": [
    "from sklearn.model_selection import train_test_split\n",
    "from sklearn.naive_bayes import GaussianNB\n",
    "from sklearn.metrics import accuracy_score, precision_score, recall_score, f1_score\n",
    "\n",
    "# Split the dataset into features (X) and labels (y)\n",
    "X = data.iloc[:, :-1].values\n",
    "y = data.iloc[:, -1].values\n",
    "\n",
    "# Split the dataset into training and testing sets\n",
    "X_train, X_test, y_train, y_test = train_test_split(X, y, test_size=0.2, random_state=42)\n",
    "\n",
    "# Train the Naive Bayes Classifier\n",
    "naive_bayes = GaussianNB()\n",
    "naive_bayes.fit(X_train, y_train)\n",
    "\n",
    "# Make predictions on the testing set\n",
    "nb_predictions = naive_bayes.predict(X_test)\n",
    "\n",
    "# Evaluate the classifiers\n",
    "nb_accuracy = accuracy_score(y_test, nb_predictions)\n",
    "nb_precision = precision_score(y_test, nb_predictions)\n",
    "nb_recall = recall_score(y_test, nb_predictions)\n",
    "nb_f1 = f1_score(y_test, nb_predictions)\n",
    "\n",
    "# Print evaluation metrics\n",
    "print(\"Naive Bayes Classifier_full:\")\n",
    "print(\"Accuracy:\", nb_accuracy)\n",
    "print(\"Precision:\", nb_precision)\n",
    "print(\"Recall:\", nb_recall)\n",
    "print(\"F1-Score:\", nb_f1)"
   ]
  },
  {
   "cell_type": "code",
   "execution_count": 69,
   "id": "f718e7d9",
   "metadata": {},
   "outputs": [
    {
     "name": "stdout",
     "output_type": "stream",
     "text": [
      "Naive Bayes Classifier_PCA:\n",
      "Accuracy: 0.782608695652174\n",
      "Precision: 0.6733576642335767\n",
      "Recall: 0.9461538461538461\n",
      "F1-Score: 0.7867803837953092\n"
     ]
    }
   ],
   "source": [
    "from sklearn.model_selection import train_test_split\n",
    "from sklearn.naive_bayes import GaussianNB\n",
    "from sklearn.metrics import accuracy_score, precision_score, recall_score, f1_score\n",
    "\n",
    "# Split the dataset into features (X) and labels (y)\n",
    "X = pca_data.iloc[:, :-1].values\n",
    "y = pca_data.iloc[:, -1].values\n",
    "\n",
    "# Split the dataset into training and testing sets\n",
    "X_train, X_test, y_train, y_test = train_test_split(X, y, test_size=0.2, random_state=42)\n",
    "\n",
    "# Train the Naive Bayes Classifier\n",
    "naive_bayes = GaussianNB()\n",
    "naive_bayes.fit(X_train, y_train)\n",
    "\n",
    "# Make predictions on the testing set\n",
    "nb_predictions = naive_bayes.predict(X_test)\n",
    "\n",
    "# Evaluate the classifiers\n",
    "nb_accuracy = accuracy_score(y_test, nb_predictions)\n",
    "nb_precision = precision_score(y_test, nb_predictions)\n",
    "nb_recall = recall_score(y_test, nb_predictions)\n",
    "nb_f1 = f1_score(y_test, nb_predictions)\n",
    "\n",
    "# Print evaluation metrics\n",
    "print(\"Naive Bayes Classifier_PCA:\")\n",
    "print(\"Accuracy:\", nb_accuracy)\n",
    "print(\"Precision:\", nb_precision)\n",
    "print(\"Recall:\", nb_recall)\n",
    "print(\"F1-Score:\", nb_f1)"
   ]
  }
 ],
 "metadata": {
  "kernelspec": {
   "display_name": "Python 3 (ipykernel)",
   "language": "python",
   "name": "python3"
  },
  "language_info": {
   "codemirror_mode": {
    "name": "ipython",
    "version": 3
   },
   "file_extension": ".py",
   "mimetype": "text/x-python",
   "name": "python",
   "nbconvert_exporter": "python",
   "pygments_lexer": "ipython3",
   "version": "3.9.13"
  }
 },
 "nbformat": 4,
 "nbformat_minor": 5
}
